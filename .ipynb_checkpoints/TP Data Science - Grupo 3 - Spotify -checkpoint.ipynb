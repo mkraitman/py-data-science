{
 "cells": [
  {
   "cell_type": "markdown",
   "id": "3cc8447f",
   "metadata": {},
   "source": [
    "\n",
    "# UP - 2C 2022 | Data Science | Grupo 3 - Spotify\n",
    "\n",
    "Trabajo practico realizado por:\n",
    "- Martin Kraitman\n",
    "- Ana Gisela Poliak\n",
    "- Glenda Margarita Schvetz\n",
    "- Josias Solis\n",
    "- Milagros Juarez"
   ]
  },
  {
   "cell_type": "code",
   "execution_count": 7,
   "id": "c67feeb4",
   "metadata": {},
   "outputs": [],
   "source": [
    "# Imports\n",
    "import pandas as pd\n",
    "import numpy as np"
   ]
  },
  {
   "cell_type": "code",
   "execution_count": 63,
   "id": "423f4661",
   "metadata": {
    "scrolled": false
   },
   "outputs": [],
   "source": [
    "# Obtengo los dataframes de todas las decadas\n",
    "ds_00s = pd.read_csv('./Dataset_spotify/Dataset_spotify/dataset-of-00s.csv')\n",
    "ds_10s = pd.read_csv('./Dataset_spotify/Dataset_spotify/dataset-of-10s.csv')\n",
    "ds_60s = pd.read_csv('./Dataset_spotify/Dataset_spotify/dataset-of-60s.csv')\n",
    "ds_70s = pd.read_csv('./Dataset_spotify/Dataset_spotify/dataset-of-70s.csv')\n",
    "ds_80s = pd.read_csv('./Dataset_spotify/Dataset_spotify/dataset-of-80s.csv')\n",
    "ds_90s = pd.read_csv('./Dataset_spotify/Dataset_spotify/dataset-of-90s.csv')\n",
    "\n",
    "# A cada uno le agrego la columna decada en la estructura\n",
    "ds_60s = ds_60s.assign(decade='60s')\n",
    "ds_70s = ds_70s.assign(decade='70s')\n",
    "ds_80s = ds_80s.assign(decade='80s')\n",
    "ds_90s = ds_90s.assign(decade='90s')\n",
    "ds_00s = ds_00s.assign(decade='00s')\n",
    "ds_10s = ds_10s.assign(decade='10s')\n",
    "\n",
    "# Finalmente para comenzar a analisar todos los datos unimos todo en un solo dataframe\n",
    "ds = pd.concat([ds_60s, ds_70s, ds_80s, ds_90s, ds_00s, ds_10s])"
   ]
  },
  {
   "cell_type": "code",
   "execution_count": 70,
   "id": "de2f25c8",
   "metadata": {},
   "outputs": [
    {
     "data": {
      "text/html": [
       "<div>\n",
       "<style scoped>\n",
       "    .dataframe tbody tr th:only-of-type {\n",
       "        vertical-align: middle;\n",
       "    }\n",
       "\n",
       "    .dataframe tbody tr th {\n",
       "        vertical-align: top;\n",
       "    }\n",
       "\n",
       "    .dataframe thead th {\n",
       "        text-align: right;\n",
       "    }\n",
       "</style>\n",
       "<table border=\"1\" class=\"dataframe\">\n",
       "  <thead>\n",
       "    <tr style=\"text-align: right;\">\n",
       "      <th></th>\n",
       "      <th>track</th>\n",
       "      <th>artist</th>\n",
       "      <th>uri</th>\n",
       "      <th>danceability</th>\n",
       "      <th>energy</th>\n",
       "      <th>key</th>\n",
       "      <th>loudness</th>\n",
       "      <th>mode</th>\n",
       "      <th>speechiness</th>\n",
       "      <th>acousticness</th>\n",
       "      <th>instrumentalness</th>\n",
       "      <th>liveness</th>\n",
       "      <th>valence</th>\n",
       "      <th>tempo</th>\n",
       "      <th>duration_ms</th>\n",
       "      <th>time_signature</th>\n",
       "      <th>chorus_hit</th>\n",
       "      <th>sections</th>\n",
       "      <th>target</th>\n",
       "      <th>decade</th>\n",
       "    </tr>\n",
       "  </thead>\n",
       "  <tbody>\n",
       "    <tr>\n",
       "      <th>0</th>\n",
       "      <td>Jealous Kind Of Fella</td>\n",
       "      <td>Garland Green</td>\n",
       "      <td>spotify:track:1dtKN6wwlolkM8XZy2y9C1</td>\n",
       "      <td>0.417</td>\n",
       "      <td>0.620</td>\n",
       "      <td>3</td>\n",
       "      <td>-7.727</td>\n",
       "      <td>1</td>\n",
       "      <td>0.0403</td>\n",
       "      <td>0.490</td>\n",
       "      <td>0.000000</td>\n",
       "      <td>0.0779</td>\n",
       "      <td>0.845</td>\n",
       "      <td>185.655</td>\n",
       "      <td>173533</td>\n",
       "      <td>3</td>\n",
       "      <td>32.94975</td>\n",
       "      <td>9</td>\n",
       "      <td>1</td>\n",
       "      <td>60s</td>\n",
       "    </tr>\n",
       "    <tr>\n",
       "      <th>1</th>\n",
       "      <td>Initials B.B.</td>\n",
       "      <td>Serge Gainsbourg</td>\n",
       "      <td>spotify:track:5hjsmSnUefdUqzsDogisiX</td>\n",
       "      <td>0.498</td>\n",
       "      <td>0.505</td>\n",
       "      <td>3</td>\n",
       "      <td>-12.475</td>\n",
       "      <td>1</td>\n",
       "      <td>0.0337</td>\n",
       "      <td>0.018</td>\n",
       "      <td>0.107000</td>\n",
       "      <td>0.1760</td>\n",
       "      <td>0.797</td>\n",
       "      <td>101.801</td>\n",
       "      <td>213613</td>\n",
       "      <td>4</td>\n",
       "      <td>48.82510</td>\n",
       "      <td>10</td>\n",
       "      <td>0</td>\n",
       "      <td>60s</td>\n",
       "    </tr>\n",
       "    <tr>\n",
       "      <th>2</th>\n",
       "      <td>Melody Twist</td>\n",
       "      <td>Lord Melody</td>\n",
       "      <td>spotify:track:6uk8tI6pwxxdVTNlNOJeJh</td>\n",
       "      <td>0.657</td>\n",
       "      <td>0.649</td>\n",
       "      <td>5</td>\n",
       "      <td>-13.392</td>\n",
       "      <td>1</td>\n",
       "      <td>0.0380</td>\n",
       "      <td>0.846</td>\n",
       "      <td>0.000004</td>\n",
       "      <td>0.1190</td>\n",
       "      <td>0.908</td>\n",
       "      <td>115.940</td>\n",
       "      <td>223960</td>\n",
       "      <td>4</td>\n",
       "      <td>37.22663</td>\n",
       "      <td>12</td>\n",
       "      <td>0</td>\n",
       "      <td>60s</td>\n",
       "    </tr>\n",
       "    <tr>\n",
       "      <th>3</th>\n",
       "      <td>Mi Bomba Sonó</td>\n",
       "      <td>Celia Cruz</td>\n",
       "      <td>spotify:track:7aNjMJ05FvUXACPWZ7yJmv</td>\n",
       "      <td>0.590</td>\n",
       "      <td>0.545</td>\n",
       "      <td>7</td>\n",
       "      <td>-12.058</td>\n",
       "      <td>0</td>\n",
       "      <td>0.1040</td>\n",
       "      <td>0.706</td>\n",
       "      <td>0.024600</td>\n",
       "      <td>0.0610</td>\n",
       "      <td>0.967</td>\n",
       "      <td>105.592</td>\n",
       "      <td>157907</td>\n",
       "      <td>4</td>\n",
       "      <td>24.75484</td>\n",
       "      <td>8</td>\n",
       "      <td>0</td>\n",
       "      <td>60s</td>\n",
       "    </tr>\n",
       "    <tr>\n",
       "      <th>4</th>\n",
       "      <td>Uravu Solla</td>\n",
       "      <td>P. Susheela</td>\n",
       "      <td>spotify:track:1rQ0clvgkzWr001POOPJWx</td>\n",
       "      <td>0.515</td>\n",
       "      <td>0.765</td>\n",
       "      <td>11</td>\n",
       "      <td>-3.515</td>\n",
       "      <td>0</td>\n",
       "      <td>0.1240</td>\n",
       "      <td>0.857</td>\n",
       "      <td>0.000872</td>\n",
       "      <td>0.2130</td>\n",
       "      <td>0.906</td>\n",
       "      <td>114.617</td>\n",
       "      <td>245600</td>\n",
       "      <td>4</td>\n",
       "      <td>21.79874</td>\n",
       "      <td>14</td>\n",
       "      <td>0</td>\n",
       "      <td>60s</td>\n",
       "    </tr>\n",
       "  </tbody>\n",
       "</table>\n",
       "</div>"
      ],
      "text/plain": [
       "                   track            artist  \\\n",
       "0  Jealous Kind Of Fella     Garland Green   \n",
       "1          Initials B.B.  Serge Gainsbourg   \n",
       "2           Melody Twist       Lord Melody   \n",
       "3          Mi Bomba Sonó        Celia Cruz   \n",
       "4            Uravu Solla       P. Susheela   \n",
       "\n",
       "                                    uri  danceability  energy  key  loudness  \\\n",
       "0  spotify:track:1dtKN6wwlolkM8XZy2y9C1         0.417   0.620    3    -7.727   \n",
       "1  spotify:track:5hjsmSnUefdUqzsDogisiX         0.498   0.505    3   -12.475   \n",
       "2  spotify:track:6uk8tI6pwxxdVTNlNOJeJh         0.657   0.649    5   -13.392   \n",
       "3  spotify:track:7aNjMJ05FvUXACPWZ7yJmv         0.590   0.545    7   -12.058   \n",
       "4  spotify:track:1rQ0clvgkzWr001POOPJWx         0.515   0.765   11    -3.515   \n",
       "\n",
       "   mode  speechiness  acousticness  instrumentalness  liveness  valence  \\\n",
       "0     1       0.0403         0.490          0.000000    0.0779    0.845   \n",
       "1     1       0.0337         0.018          0.107000    0.1760    0.797   \n",
       "2     1       0.0380         0.846          0.000004    0.1190    0.908   \n",
       "3     0       0.1040         0.706          0.024600    0.0610    0.967   \n",
       "4     0       0.1240         0.857          0.000872    0.2130    0.906   \n",
       "\n",
       "     tempo  duration_ms  time_signature  chorus_hit  sections  target decade  \n",
       "0  185.655       173533               3    32.94975         9       1    60s  \n",
       "1  101.801       213613               4    48.82510        10       0    60s  \n",
       "2  115.940       223960               4    37.22663        12       0    60s  \n",
       "3  105.592       157907               4    24.75484         8       0    60s  \n",
       "4  114.617       245600               4    21.79874        14       0    60s  "
      ]
     },
     "execution_count": 70,
     "metadata": {},
     "output_type": "execute_result"
    }
   ],
   "source": [
    "ds.head()"
   ]
  },
  {
   "cell_type": "markdown",
   "id": "60852f0f",
   "metadata": {},
   "source": [
    "## Columnas\n",
    "- **Track**: Es el nombre de la cancion\n",
    "- **Artist**: Es el artista de la cancion\n",
    "- **URI**: La url de Spotify\n",
    "- **Danceability**: Grado de bailable entre 0 y 1\n",
    "- **Energy**: Grado de energia entre 0 y 1\n",
    "- **Key**: Claves en octava medidas entre valores que van del 0 al 11. Comenzando en C como 0 y C# como 1 y asi sucesivamente.\n",
    "- **loudness**: Rango de volumen entre -60 y 0\n",
    "- **mode**: (0 = Minor, 1 = Major)\n",
    "- **speechiness**: Grado de palabras en la cancion entre 0 y 1 \n",
    "- **acousticness**: Grado entre 0 y 1\n",
    "- **instrumentalness**: Grado de\n",
    "- **liveness**:\n",
    "- **valence**: \n",
    "- **tempo**:\n",
    "- **duration_ms**:\n",
    "- **time_signature**:\n",
    "- **chorus_git**:\n",
    "- **sections**:\n",
    "- **target**:\n",
    "- **decade**:\n",
    "\n"
   ]
  },
  {
   "cell_type": "code",
   "execution_count": 68,
   "id": "fe0180f7",
   "metadata": {},
   "outputs": [
    {
     "data": {
      "text/plain": [
       "(41106, 20)"
      ]
     },
     "execution_count": 68,
     "metadata": {},
     "output_type": "execute_result"
    }
   ],
   "source": [
    "# Visualizo la cantidad total de filas por columnas\n",
    "ds.shape"
   ]
  },
  {
   "cell_type": "code",
   "execution_count": 69,
   "id": "a68f0d18",
   "metadata": {
    "scrolled": true
   },
   "outputs": [
    {
     "data": {
      "text/plain": [
       "<AxesSubplot:>"
      ]
     },
     "execution_count": 69,
     "metadata": {},
     "output_type": "execute_result"
    },
    {
     "data": {
      "image/png": "[encoded data removed]",
      "text/plain": [
       "<Figure size 432x288 with 1 Axes>"
      ]
     },
     "metadata": {
      "needs_background": "light"
     },
     "output_type": "display_data"
    }
   ],
   "source": [
    "# Visualizo la cantidad de registros por decada\n",
    "ds['decade'].value_counts().plot.bar()"
   ]
  }
 ],
 "metadata": {
  "kernelspec": {
   "display_name": "Python 3 (ipykernel)",
   "language": "python",
   "name": "python3"
  },
  "language_info": {
   "codemirror_mode": {
    "name": "ipython",
    "version": 3
   },
   "file_extension": ".py",
   "mimetype": "text/x-python",
   "name": "python",
   "nbconvert_exporter": "python",
   "pygments_lexer": "ipython3",
   "version": "3.9.12"
  }
 },
 "nbformat": 4,
 "nbformat_minor": 5
}
